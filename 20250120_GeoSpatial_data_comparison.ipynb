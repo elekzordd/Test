{
  "nbformat": 4,
  "nbformat_minor": 0,
  "metadata": {
    "colab": {
      "provenance": [],
      "authorship_tag": "ABX9TyO+QRcg/Rup7V06qpXqgrBo",
      "include_colab_link": true
    },
    "kernelspec": {
      "name": "python3",
      "display_name": "Python 3"
    },
    "language_info": {
      "name": "python"
    },
    "widgets": {
      "application/vnd.jupyter.widget-state+json": {
        "c94bdbb51c5a453683d60b648ab6e6d1": {
          "model_module": "@jupyter-widgets/controls",
          "model_name": "FloatProgressModel",
          "model_module_version": "1.5.0",
          "state": {
            "_dom_classes": [],
            "_model_module": "@jupyter-widgets/controls",
            "_model_module_version": "1.5.0",
            "_model_name": "FloatProgressModel",
            "_view_count": null,
            "_view_module": "@jupyter-widgets/controls",
            "_view_module_version": "1.5.0",
            "_view_name": "ProgressView",
            "bar_style": "",
            "description": "",
            "description_tooltip": null,
            "layout": "IPY_MODEL_6266ae07966a49e6ba4c4d21583f0034",
            "max": 100,
            "min": 0,
            "orientation": "horizontal",
            "style": "IPY_MODEL_1375db2379ae4177bbf3904ead0478ec",
            "value": 100
          }
        },
        "6266ae07966a49e6ba4c4d21583f0034": {
          "model_module": "@jupyter-widgets/base",
          "model_name": "LayoutModel",
          "model_module_version": "1.2.0",
          "state": {
            "_model_module": "@jupyter-widgets/base",
            "_model_module_version": "1.2.0",
            "_model_name": "LayoutModel",
            "_view_count": null,
            "_view_module": "@jupyter-widgets/base",
            "_view_module_version": "1.2.0",
            "_view_name": "LayoutView",
            "align_content": null,
            "align_items": null,
            "align_self": null,
            "border": null,
            "bottom": null,
            "display": null,
            "flex": null,
            "flex_flow": null,
            "grid_area": null,
            "grid_auto_columns": null,
            "grid_auto_flow": null,
            "grid_auto_rows": null,
            "grid_column": null,
            "grid_gap": null,
            "grid_row": null,
            "grid_template_areas": null,
            "grid_template_columns": null,
            "grid_template_rows": null,
            "height": null,
            "justify_content": null,
            "justify_items": null,
            "left": null,
            "margin": null,
            "max_height": null,
            "max_width": null,
            "min_height": null,
            "min_width": null,
            "object_fit": null,
            "object_position": null,
            "order": null,
            "overflow": null,
            "overflow_x": null,
            "overflow_y": null,
            "padding": null,
            "right": null,
            "top": null,
            "visibility": null,
            "width": "auto"
          }
        },
        "1375db2379ae4177bbf3904ead0478ec": {
          "model_module": "@jupyter-widgets/controls",
          "model_name": "ProgressStyleModel",
          "model_module_version": "1.5.0",
          "state": {
            "_model_module": "@jupyter-widgets/controls",
            "_model_module_version": "1.5.0",
            "_model_name": "ProgressStyleModel",
            "_view_count": null,
            "_view_module": "@jupyter-widgets/base",
            "_view_module_version": "1.2.0",
            "_view_name": "StyleView",
            "bar_color": "black",
            "description_width": ""
          }
        },
        "b766cbe341cb4e8fa00caa06b1f91ed2": {
          "model_module": "@jupyter-widgets/controls",
          "model_name": "FloatProgressModel",
          "model_module_version": "1.5.0",
          "state": {
            "_dom_classes": [],
            "_model_module": "@jupyter-widgets/controls",
            "_model_module_version": "1.5.0",
            "_model_name": "FloatProgressModel",
            "_view_count": null,
            "_view_module": "@jupyter-widgets/controls",
            "_view_module_version": "1.5.0",
            "_view_name": "ProgressView",
            "bar_style": "",
            "description": "",
            "description_tooltip": null,
            "layout": "IPY_MODEL_69283df9f702412b976b758de1320190",
            "max": 100,
            "min": 0,
            "orientation": "horizontal",
            "style": "IPY_MODEL_34f2de378f4245c9af67ac8f6d11293e",
            "value": 100
          }
        },
        "69283df9f702412b976b758de1320190": {
          "model_module": "@jupyter-widgets/base",
          "model_name": "LayoutModel",
          "model_module_version": "1.2.0",
          "state": {
            "_model_module": "@jupyter-widgets/base",
            "_model_module_version": "1.2.0",
            "_model_name": "LayoutModel",
            "_view_count": null,
            "_view_module": "@jupyter-widgets/base",
            "_view_module_version": "1.2.0",
            "_view_name": "LayoutView",
            "align_content": null,
            "align_items": null,
            "align_self": null,
            "border": null,
            "bottom": null,
            "display": null,
            "flex": null,
            "flex_flow": null,
            "grid_area": null,
            "grid_auto_columns": null,
            "grid_auto_flow": null,
            "grid_auto_rows": null,
            "grid_column": null,
            "grid_gap": null,
            "grid_row": null,
            "grid_template_areas": null,
            "grid_template_columns": null,
            "grid_template_rows": null,
            "height": null,
            "justify_content": null,
            "justify_items": null,
            "left": null,
            "margin": null,
            "max_height": null,
            "max_width": null,
            "min_height": null,
            "min_width": null,
            "object_fit": null,
            "object_position": null,
            "order": null,
            "overflow": null,
            "overflow_x": null,
            "overflow_y": null,
            "padding": null,
            "right": null,
            "top": null,
            "visibility": null,
            "width": "auto"
          }
        },
        "34f2de378f4245c9af67ac8f6d11293e": {
          "model_module": "@jupyter-widgets/controls",
          "model_name": "ProgressStyleModel",
          "model_module_version": "1.5.0",
          "state": {
            "_model_module": "@jupyter-widgets/controls",
            "_model_module_version": "1.5.0",
            "_model_name": "ProgressStyleModel",
            "_view_count": null,
            "_view_module": "@jupyter-widgets/base",
            "_view_module_version": "1.2.0",
            "_view_name": "StyleView",
            "bar_color": "black",
            "description_width": ""
          }
        },
        "70e0af19da64476891a3fd87f162becc": {
          "model_module": "@jupyter-widgets/controls",
          "model_name": "FloatProgressModel",
          "model_module_version": "1.5.0",
          "state": {
            "_dom_classes": [],
            "_model_module": "@jupyter-widgets/controls",
            "_model_module_version": "1.5.0",
            "_model_name": "FloatProgressModel",
            "_view_count": null,
            "_view_module": "@jupyter-widgets/controls",
            "_view_module_version": "1.5.0",
            "_view_name": "ProgressView",
            "bar_style": "",
            "description": "",
            "description_tooltip": null,
            "layout": "IPY_MODEL_17387006369c4ebab8e86e0b12c038c4",
            "max": 100,
            "min": 0,
            "orientation": "horizontal",
            "style": "IPY_MODEL_dfd3763eec8b457a9910b64dd8537df4",
            "value": 100
          }
        },
        "17387006369c4ebab8e86e0b12c038c4": {
          "model_module": "@jupyter-widgets/base",
          "model_name": "LayoutModel",
          "model_module_version": "1.2.0",
          "state": {
            "_model_module": "@jupyter-widgets/base",
            "_model_module_version": "1.2.0",
            "_model_name": "LayoutModel",
            "_view_count": null,
            "_view_module": "@jupyter-widgets/base",
            "_view_module_version": "1.2.0",
            "_view_name": "LayoutView",
            "align_content": null,
            "align_items": null,
            "align_self": null,
            "border": null,
            "bottom": null,
            "display": null,
            "flex": null,
            "flex_flow": null,
            "grid_area": null,
            "grid_auto_columns": null,
            "grid_auto_flow": null,
            "grid_auto_rows": null,
            "grid_column": null,
            "grid_gap": null,
            "grid_row": null,
            "grid_template_areas": null,
            "grid_template_columns": null,
            "grid_template_rows": null,
            "height": null,
            "justify_content": null,
            "justify_items": null,
            "left": null,
            "margin": null,
            "max_height": null,
            "max_width": null,
            "min_height": null,
            "min_width": null,
            "object_fit": null,
            "object_position": null,
            "order": null,
            "overflow": null,
            "overflow_x": null,
            "overflow_y": null,
            "padding": null,
            "right": null,
            "top": null,
            "visibility": null,
            "width": "auto"
          }
        },
        "dfd3763eec8b457a9910b64dd8537df4": {
          "model_module": "@jupyter-widgets/controls",
          "model_name": "ProgressStyleModel",
          "model_module_version": "1.5.0",
          "state": {
            "_model_module": "@jupyter-widgets/controls",
            "_model_module_version": "1.5.0",
            "_model_name": "ProgressStyleModel",
            "_view_count": null,
            "_view_module": "@jupyter-widgets/base",
            "_view_module_version": "1.2.0",
            "_view_name": "StyleView",
            "bar_color": "black",
            "description_width": ""
          }
        },
        "97ec5a0e400f485ab0625f384fe8cd33": {
          "model_module": "@jupyter-widgets/controls",
          "model_name": "FloatProgressModel",
          "model_module_version": "1.5.0",
          "state": {
            "_dom_classes": [],
            "_model_module": "@jupyter-widgets/controls",
            "_model_module_version": "1.5.0",
            "_model_name": "FloatProgressModel",
            "_view_count": null,
            "_view_module": "@jupyter-widgets/controls",
            "_view_module_version": "1.5.0",
            "_view_name": "ProgressView",
            "bar_style": "",
            "description": "",
            "description_tooltip": null,
            "layout": "IPY_MODEL_78f373525fe94d3fb9e085d77c9a3f4f",
            "max": 100,
            "min": 0,
            "orientation": "horizontal",
            "style": "IPY_MODEL_6d422296f879400387d682dfd814f9f3",
            "value": 100
          }
        },
        "78f373525fe94d3fb9e085d77c9a3f4f": {
          "model_module": "@jupyter-widgets/base",
          "model_name": "LayoutModel",
          "model_module_version": "1.2.0",
          "state": {
            "_model_module": "@jupyter-widgets/base",
            "_model_module_version": "1.2.0",
            "_model_name": "LayoutModel",
            "_view_count": null,
            "_view_module": "@jupyter-widgets/base",
            "_view_module_version": "1.2.0",
            "_view_name": "LayoutView",
            "align_content": null,
            "align_items": null,
            "align_self": null,
            "border": null,
            "bottom": null,
            "display": null,
            "flex": null,
            "flex_flow": null,
            "grid_area": null,
            "grid_auto_columns": null,
            "grid_auto_flow": null,
            "grid_auto_rows": null,
            "grid_column": null,
            "grid_gap": null,
            "grid_row": null,
            "grid_template_areas": null,
            "grid_template_columns": null,
            "grid_template_rows": null,
            "height": null,
            "justify_content": null,
            "justify_items": null,
            "left": null,
            "margin": null,
            "max_height": null,
            "max_width": null,
            "min_height": null,
            "min_width": null,
            "object_fit": null,
            "object_position": null,
            "order": null,
            "overflow": null,
            "overflow_x": null,
            "overflow_y": null,
            "padding": null,
            "right": null,
            "top": null,
            "visibility": null,
            "width": "auto"
          }
        },
        "6d422296f879400387d682dfd814f9f3": {
          "model_module": "@jupyter-widgets/controls",
          "model_name": "ProgressStyleModel",
          "model_module_version": "1.5.0",
          "state": {
            "_model_module": "@jupyter-widgets/controls",
            "_model_module_version": "1.5.0",
            "_model_name": "ProgressStyleModel",
            "_view_count": null,
            "_view_module": "@jupyter-widgets/base",
            "_view_module_version": "1.2.0",
            "_view_name": "StyleView",
            "bar_color": "black",
            "description_width": ""
          }
        }
      }
    }
  },
  "cells": [
    {
      "cell_type": "markdown",
      "metadata": {
        "id": "view-in-github",
        "colab_type": "text"
      },
      "source": [
        "<a href=\"https://colab.research.google.com/github/elekzordd/Test/blob/main/20250120_GeoSpatial_data_comparison.ipynb\" target=\"_parent\"><img src=\"https://colab.research.google.com/assets/colab-badge.svg\" alt=\"Open In Colab\"/></a>"
      ]
    },
    {
      "cell_type": "code",
      "source": [
        "### 0. Install all necessary packages\n",
        "!pip install gdal\n",
        "!pip install duckdb\n",
        "!pip  install geopandas\n",
        "!pip install pyarrow"
      ],
      "metadata": {
        "id": "9NJ2bVkzA0zR"
      },
      "execution_count": null,
      "outputs": []
    },
    {
      "cell_type": "code",
      "execution_count": 7,
      "metadata": {
        "id": "Ucnm0bkZ5nbb"
      },
      "outputs": [],
      "source": [
        "### 1. Imports\n",
        "\n",
        "#1.a. Import the `duckdb` library for querying and managing data.\n",
        "import duckdb\n",
        "\n",
        "#1.b. Import the `geopandas` library for working with geospatial data.\n",
        "import geopandas\n",
        "\n",
        "#1.c. Import the `pyarrow` library for handling data in Apache Arrow format.\n",
        "import pyarrow"
      ]
    },
    {
      "cell_type": "code",
      "source": [
        "%reload_ext watermark\n",
        "%watermark -a \"KURWISKOOOOO\""
      ],
      "metadata": {
        "colab": {
          "base_uri": "https://localhost:8080/"
        },
        "id": "hkr0ebVW5vuU",
        "outputId": "54f3ed93-46a4-4361-8900-09a998ad64e3"
      },
      "execution_count": 9,
      "outputs": [
        {
          "output_type": "stream",
          "name": "stdout",
          "text": [
            "Author: KURWISKOOOOO\n",
            "\n"
          ]
        }
      ]
    },
    {
      "cell_type": "code",
      "source": [
        "### 2. Installing DuckDB extensions\n",
        "\n",
        "#2.a. Install the `httpfs` extension for handling HTTP file systems.\n",
        "duckdb.sql('INSTALL httpfs')\n",
        "\n",
        "#2.b. Load the `httpfs` extension.\n",
        "duckdb.sql('LOAD httpfs')\n",
        "\n",
        "#2.c. Force install the `spatial` extension from the specified URL.\n",
        "duckdb.sql(\"FORCE INSTALL spatial FROM 'http://nightly-extensions.duckdb.org';\")\n",
        "\n",
        "#2.d. Load the `spatial` extension for geospatial data processing.\n",
        "duckdb.sql('LOAD spatial')"
      ],
      "metadata": {
        "id": "iOP1tQQg58WD"
      },
      "execution_count": 10,
      "outputs": []
    },
    {
      "cell_type": "code",
      "source": [
        "### 3. Initializing DuckDB for in-memory processing\n",
        "\n",
        "#3.a. Create a DuckDB database instance with in-memory storage.\n",
        "con = duckdb.connect(database=\":memory:\")"
      ],
      "metadata": {
        "id": "aEdlH1Si6IhQ"
      },
      "execution_count": 11,
      "outputs": []
    },
    {
      "cell_type": "code",
      "source": [
        "### 4. Installing and loading extensions (an alternative to what was shown earlier)\n",
        "\n",
        "#4.a. Install and load the `httpfs` extension.\n",
        "con.install_extension('httpfs')\n",
        "con.load_extension('httpfs')\n",
        "\n",
        "#4.b. Install and load the `spatial` extension.\n",
        "con.install_extension('spatial')\n",
        "con.load_extension('spatial')"
      ],
      "metadata": {
        "id": "kllMA8W16L3D"
      },
      "execution_count": 12,
      "outputs": []
    },
    {
      "cell_type": "code",
      "source": [
        "### 5. S3 file address in the AWS cloud\n",
        "prefix = \"s3://us-west-2.opendata.source.coop/vida/google-microsoft-open-buildings/geoparquet\""
      ],
      "metadata": {
        "id": "5AzOVOgd6Ncd"
      },
      "execution_count": 13,
      "outputs": []
    },
    {
      "cell_type": "code",
      "source": [
        "### 6. Partition type\n",
        "partitions = \"by_country\""
      ],
      "metadata": {
        "id": "FJnFDhzU6POP"
      },
      "execution_count": 14,
      "outputs": []
    },
    {
      "cell_type": "code",
      "source": [
        "### 7. Country ISO code\n",
        "country_iso = \"LTU\""
      ],
      "metadata": {
        "id": "xLKnKgLS6QLT"
      },
      "execution_count": 15,
      "outputs": []
    },
    {
      "cell_type": "code",
      "source": [
        "### 8. Creating a table with building data for Lithuania\n",
        "\n",
        "%%time\n",
        "\n",
        "con.execute(f\"\"\"\n",
        "    CREATE OR REPLACE TABLE lithuania_buildings AS\n",
        "      SELECT * FROM parquet_scan('{prefix}/by_country_s2/country_iso={country_iso}/*.parquet')\n",
        "\"\"\")\n",
        "\n"
      ],
      "metadata": {
        "colab": {
          "base_uri": "https://localhost:8080/",
          "height": 121,
          "referenced_widgets": [
            "c94bdbb51c5a453683d60b648ab6e6d1",
            "6266ae07966a49e6ba4c4d21583f0034",
            "1375db2379ae4177bbf3904ead0478ec"
          ]
        },
        "id": "qAJcbkbO_x2B",
        "outputId": "668602d3-4ed6-480f-9b35-82a8c2fcca91"
      },
      "execution_count": 16,
      "outputs": [
        {
          "output_type": "display_data",
          "data": {
            "text/plain": [
              "FloatProgress(value=0.0, layout=Layout(width='auto'), style=ProgressStyle(bar_color='black'))"
            ],
            "application/vnd.jupyter.widget-view+json": {
              "version_major": 2,
              "version_minor": 0,
              "model_id": "c94bdbb51c5a453683d60b648ab6e6d1"
            }
          },
          "metadata": {}
        },
        {
          "output_type": "stream",
          "name": "stdout",
          "text": [
            "CPU times: user 5.47 s, sys: 1.72 s, total: 7.19 s\n",
            "Wall time: 30.1 s\n"
          ]
        },
        {
          "output_type": "execute_result",
          "data": {
            "text/plain": [
              "<duckdb.duckdb.DuckDBPyConnection at 0x7da9f556bdb0>"
            ]
          },
          "metadata": {},
          "execution_count": 16
        }
      ]
    },
    {
      "cell_type": "code",
      "source": [
        "### 9. Table summary\n",
        "\n",
        "%%time\n",
        "\n",
        "con.query('DESCRIBE lithuania_buildings')"
      ],
      "metadata": {
        "colab": {
          "base_uri": "https://localhost:8080/"
        },
        "id": "athNFTkF_zo8",
        "outputId": "72b9c28f-aa33-43d4-d087-c7213a62a860"
      },
      "execution_count": 18,
      "outputs": [
        {
          "output_type": "stream",
          "name": "stdout",
          "text": [
            "CPU times: user 2.3 ms, sys: 819 µs, total: 3.11 ms\n",
            "Wall time: 4.78 ms\n"
          ]
        },
        {
          "output_type": "execute_result",
          "data": {
            "text/plain": [
              "┌───────────────────┬────────────────────────────────────────────────────────────┬─────────┬─────────┬─────────┬─────────┐\n",
              "│    column_name    │                        column_type                         │  null   │   key   │ default │  extra  │\n",
              "│      varchar      │                          varchar                           │ varchar │ varchar │ varchar │ varchar │\n",
              "├───────────────────┼────────────────────────────────────────────────────────────┼─────────┼─────────┼─────────┼─────────┤\n",
              "│ boundary_id       │ BIGINT                                                     │ YES     │ NULL    │ NULL    │ NULL    │\n",
              "│ bf_source         │ VARCHAR                                                    │ YES     │ NULL    │ NULL    │ NULL    │\n",
              "│ confidence        │ DOUBLE                                                     │ YES     │ NULL    │ NULL    │ NULL    │\n",
              "│ area_in_meters    │ DOUBLE                                                     │ YES     │ NULL    │ NULL    │ NULL    │\n",
              "│ s2_id             │ BIGINT                                                     │ YES     │ NULL    │ NULL    │ NULL    │\n",
              "│ country_iso       │ VARCHAR                                                    │ YES     │ NULL    │ NULL    │ NULL    │\n",
              "│ geometry          │ GEOMETRY                                                   │ YES     │ NULL    │ NULL    │ NULL    │\n",
              "│ geohash           │ VARCHAR                                                    │ YES     │ NULL    │ NULL    │ NULL    │\n",
              "│ __index_level_0__ │ BIGINT                                                     │ YES     │ NULL    │ NULL    │ NULL    │\n",
              "│ bbox              │ STRUCT(xmin DOUBLE, ymin DOUBLE, xmax DOUBLE, ymax DOUBLE) │ YES     │ NULL    │ NULL    │ NULL    │\n",
              "├───────────────────┴────────────────────────────────────────────────────────────┴─────────┴─────────┴─────────┴─────────┤\n",
              "│ 10 rows                                                                                                      6 columns │\n",
              "└────────────────────────────────────────────────────────────────────────────────────────────────────────────────────────┘"
            ]
          },
          "metadata": {},
          "execution_count": 18
        }
      ]
    },
    {
      "cell_type": "code",
      "source": [
        "### 10. Record count\n",
        "\n",
        "%%time\n",
        "\n",
        "con.query('SELECT COUNT(*) FROM lithuania_buildings;')"
      ],
      "metadata": {
        "colab": {
          "base_uri": "https://localhost:8080/"
        },
        "id": "f-1WVz38_0S2",
        "outputId": "fc3ebd02-38fa-439c-8c3e-767e0b25a623"
      },
      "execution_count": 19,
      "outputs": [
        {
          "output_type": "stream",
          "name": "stdout",
          "text": [
            "CPU times: user 2.66 ms, sys: 0 ns, total: 2.66 ms\n",
            "Wall time: 1.97 ms\n"
          ]
        },
        {
          "output_type": "execute_result",
          "data": {
            "text/plain": [
              "┌──────────────┐\n",
              "│ count_star() │\n",
              "│    int64     │\n",
              "├──────────────┤\n",
              "│      2160393 │\n",
              "└──────────────┘"
            ]
          },
          "metadata": {},
          "execution_count": 19
        }
      ]
    },
    {
      "cell_type": "code",
      "source": [
        "### 11. Selecting the source and count\n",
        "\n",
        "%%time\n",
        "\n",
        "con.query('SELECT bf_source AS data_source, COUNT(*) AS count FROM lithuania_buildings GROUP BY data_source;')"
      ],
      "metadata": {
        "colab": {
          "base_uri": "https://localhost:8080/"
        },
        "id": "6ZVHU8RjAtv2",
        "outputId": "3c9673fb-b86a-4743-de90-bd14fbef02d9"
      },
      "execution_count": 20,
      "outputs": [
        {
          "output_type": "stream",
          "name": "stdout",
          "text": [
            "CPU times: user 3.28 ms, sys: 0 ns, total: 3.28 ms\n",
            "Wall time: 8.98 ms\n"
          ]
        },
        {
          "output_type": "execute_result",
          "data": {
            "text/plain": [
              "┌─────────────┬─────────┐\n",
              "│ data_source │  count  │\n",
              "│   varchar   │  int64  │\n",
              "├─────────────┼─────────┤\n",
              "│ microsoft   │ 2160393 │\n",
              "└─────────────┴─────────┘"
            ]
          },
          "metadata": {},
          "execution_count": 20
        }
      ]
    },
    {
      "cell_type": "code",
      "source": [
        "### 12. Using SELECT is not mandatory with DuckDB\n",
        "\n",
        "%%time\n",
        "\n",
        "# con.query('''FROM lithuania_buildings WHERE bf_source = 'microsoft' LIMIT 10;''')"
      ],
      "metadata": {
        "colab": {
          "base_uri": "https://localhost:8080/"
        },
        "id": "hhw-tvvqBxJC",
        "outputId": "a3bee0bc-17a5-4514-89ab-b4a603c08c69"
      },
      "execution_count": 24,
      "outputs": [
        {
          "output_type": "stream",
          "name": "stdout",
          "text": [
            "CPU times: user 4 µs, sys: 1 µs, total: 5 µs\n",
            "Wall time: 8.34 µs\n"
          ]
        }
      ]
    },
    {
      "cell_type": "code",
      "source": [
        "### 13. We can work with data from other countries\n",
        "\n",
        "prefix = \"s3://us-west-2.opendata.source.coop/vida/google-microsoft-open-buildings/geoparquet\"\n",
        "partitions = \"by_country_s2\"\n",
        "country_iso = \"POL\""
      ],
      "metadata": {
        "id": "ETBmxWOBB2OY"
      },
      "execution_count": 25,
      "outputs": []
    },
    {
      "cell_type": "code",
      "source": [
        "### 14. Define an another SQL query\n",
        "\n",
        "query1 = f\"\"\"\n",
        "    CREATE TABLE pol_buildings AS\n",
        "    SELECT s2_id, COUNT(geometry) AS buildings_count\n",
        "    FROM parquet_scan('{prefix}/{partitions}/country_iso={country_iso}/*.parquet')\n",
        "    GROUP BY(s2_id)\n",
        "\"\"\""
      ],
      "metadata": {
        "id": "UjEn7eOGCEPq"
      },
      "execution_count": 26,
      "outputs": []
    },
    {
      "cell_type": "code",
      "source": [
        "### 15. Execute the query\n",
        "\n",
        "%%time\n",
        "\n",
        "duckdb.sql(query1)"
      ],
      "metadata": {
        "colab": {
          "base_uri": "https://localhost:8080/",
          "height": 104,
          "referenced_widgets": [
            "b766cbe341cb4e8fa00caa06b1f91ed2",
            "69283df9f702412b976b758de1320190",
            "34f2de378f4245c9af67ac8f6d11293e"
          ]
        },
        "id": "YUSEmtnSCIFI",
        "outputId": "6a447af7-eef1-4f3d-d11a-a989b235e25e"
      },
      "execution_count": 27,
      "outputs": [
        {
          "data": {
            "application/vnd.jupyter.widget-view+json": {
              "model_id": "b766cbe341cb4e8fa00caa06b1f91ed2",
              "version_major": 2,
              "version_minor": 0
            },
            "text/plain": [
              "FloatProgress(value=0.0, layout=Layout(width='auto'), style=ProgressStyle(bar_color='black'))"
            ]
          },
          "metadata": {},
          "output_type": "display_data"
        },
        {
          "output_type": "stream",
          "name": "stdout",
          "text": [
            "CPU times: user 15.4 s, sys: 2.46 s, total: 17.9 s\n",
            "Wall time: 3min 19s\n"
          ]
        }
      ]
    },
    {
      "cell_type": "code",
      "source": [
        "### 16. Execute query\n",
        "\n",
        "%%time\n",
        "\n",
        "duckdb.sql(\"SELECT * FROM pol_buildings\").show()"
      ],
      "metadata": {
        "colab": {
          "base_uri": "https://localhost:8080/"
        },
        "id": "vzX8-dK-CKlP",
        "outputId": "eb722c80-69db-412c-a54f-0fe7b1276475"
      },
      "execution_count": 28,
      "outputs": [
        {
          "output_type": "stream",
          "name": "stdout",
          "text": [
            "┌─────────────────────┬─────────────────┐\n",
            "│        s2_id        │ buildings_count │\n",
            "│        int64        │      int64      │\n",
            "├─────────────────────┼─────────────────┤\n",
            "│ 4899916394579099648 │        17889682 │\n",
            "└─────────────────────┴─────────────────┘\n",
            "\n",
            "CPU times: user 4.75 ms, sys: 0 ns, total: 4.75 ms\n",
            "Wall time: 4.86 ms\n"
          ]
        }
      ]
    },
    {
      "cell_type": "code",
      "source": [
        "### 17. Define the SQL query\n",
        "\n",
        "query2 = f\"\"\"\n",
        "    SELECT ROUND(AVG(buildings_count), 0) AS avg_num_buildings\n",
        "    FROM pol_buildings\n",
        "\"\"\""
      ],
      "metadata": {
        "id": "55w2l9RxCOxs"
      },
      "execution_count": 29,
      "outputs": []
    },
    {
      "cell_type": "code",
      "source": [
        "### 18. Execute the query and display the result\n",
        "\n",
        "%%time\n",
        "\n",
        "duckdb.sql(query2).show()"
      ],
      "metadata": {
        "colab": {
          "base_uri": "https://localhost:8080/"
        },
        "id": "8WV8SBeiC1cM",
        "outputId": "17141202-3e53-4d89-b4f2-8e2a4df660f2"
      },
      "execution_count": 30,
      "outputs": [
        {
          "output_type": "stream",
          "name": "stdout",
          "text": [
            "┌───────────────────┐\n",
            "│ avg_num_buildings │\n",
            "│      double       │\n",
            "├───────────────────┤\n",
            "│        17889682.0 │\n",
            "└───────────────────┘\n",
            "\n",
            "CPU times: user 8.06 ms, sys: 0 ns, total: 8.06 ms\n",
            "Wall time: 18.2 ms\n"
          ]
        }
      ]
    },
    {
      "cell_type": "code",
      "source": [
        "### 19. Partition type and country ISO code\n",
        "\n",
        "partitions = \"by_country_s2\"\n",
        "country_iso = \"ERI\""
      ],
      "metadata": {
        "id": "z8vjABwZC48l"
      },
      "execution_count": 31,
      "outputs": []
    },
    {
      "cell_type": "code",
      "source": [
        "### 20. Creating or replacing the table for Lesotho buildings\n",
        "\n",
        "%%time\n",
        "\n",
        "duckdb.sql(f\"\"\"\n",
        "    CREATE OR REPLACE TABLE eri_buildings AS\n",
        "    SELECT *\n",
        "    FROM parquet_scan('{prefix}/{partitions}/country_iso={country_iso}/*.parquet')\n",
        "\"\"\")"
      ],
      "metadata": {
        "colab": {
          "base_uri": "https://localhost:8080/",
          "height": 104,
          "referenced_widgets": [
            "70e0af19da64476891a3fd87f162becc",
            "17387006369c4ebab8e86e0b12c038c4",
            "dfd3763eec8b457a9910b64dd8537df4"
          ]
        },
        "id": "eMHgQ676DCUt",
        "outputId": "39f7ad28-5b0f-44f2-adf7-377b0332b603"
      },
      "execution_count": 32,
      "outputs": [
        {
          "output_type": "display_data",
          "data": {
            "text/plain": [
              "FloatProgress(value=0.0, layout=Layout(width='auto'), style=ProgressStyle(bar_color='black'))"
            ],
            "application/vnd.jupyter.widget-view+json": {
              "version_major": 2,
              "version_minor": 0,
              "model_id": "70e0af19da64476891a3fd87f162becc"
            }
          },
          "metadata": {}
        },
        {
          "output_type": "stream",
          "name": "stdout",
          "text": [
            "CPU times: user 3.72 s, sys: 1.02 s, total: 4.74 s\n",
            "Wall time: 20.2 s\n"
          ]
        }
      ]
    },
    {
      "cell_type": "code",
      "source": [
        "### 21. Execute the query\n",
        "\n",
        "%%time\n",
        "\n",
        "duckdb.sql(f\"\"\"\n",
        "    SELECT bf_source, COUNT(*) AS buildings_count\n",
        "    FROM eri_buildings\n",
        "    GROUP BY bf_source;\n",
        "\"\"\").show()"
      ],
      "metadata": {
        "colab": {
          "base_uri": "https://localhost:8080/"
        },
        "id": "mrumTq8WDFY_",
        "outputId": "0e2abe99-7754-465b-f705-56bee71f45b7"
      },
      "execution_count": 33,
      "outputs": [
        {
          "output_type": "stream",
          "name": "stdout",
          "text": [
            "┌───────────┬─────────────────┐\n",
            "│ bf_source │ buildings_count │\n",
            "│  varchar  │      int64      │\n",
            "├───────────┼─────────────────┤\n",
            "│ google    │         1511456 │\n",
            "│ microsoft │           44687 │\n",
            "└───────────┴─────────────────┘\n",
            "\n",
            "CPU times: user 124 ms, sys: 0 ns, total: 124 ms\n",
            "Wall time: 67.2 ms\n"
          ]
        }
      ]
    },
    {
      "cell_type": "code",
      "source": [
        "### 22. Data source from Google Research\n",
        "\n",
        "prefix = \"s3://us-west-2.opendata.source.coop/google-research-open-buildings/geoparquet-by-country\""
      ],
      "metadata": {
        "id": "ewHucQzEDOGR"
      },
      "execution_count": 34,
      "outputs": []
    },
    {
      "cell_type": "code",
      "source": [
        "### 23. Country code\n",
        "\n",
        "country = \"ER\""
      ],
      "metadata": {
        "id": "AncAJxUiDRSC"
      },
      "execution_count": 35,
      "outputs": []
    },
    {
      "cell_type": "code",
      "source": [
        "### 24. Creating or replacing the table for Lesotho buildings from Google dataset\n",
        "\n",
        "%%time\n",
        "\n",
        "duckdb.sql(f\"\"\"\n",
        "    CREATE OR REPLACE TABLE eri_buildings_google AS\n",
        "    SELECT *\n",
        "    FROM '{prefix}/country_iso={country}/{country}.parquet'\n",
        "\"\"\")"
      ],
      "metadata": {
        "colab": {
          "base_uri": "https://localhost:8080/",
          "height": 104,
          "referenced_widgets": [
            "97ec5a0e400f485ab0625f384fe8cd33",
            "78f373525fe94d3fb9e085d77c9a3f4f",
            "6d422296f879400387d682dfd814f9f3"
          ]
        },
        "id": "DhkGEuVpDU8h",
        "outputId": "dc04c2a9-143e-4b38-9e3a-2afdc6a4b3fc"
      },
      "execution_count": 38,
      "outputs": [
        {
          "output_type": "display_data",
          "data": {
            "text/plain": [
              "FloatProgress(value=0.0, layout=Layout(width='auto'), style=ProgressStyle(bar_color='black'))"
            ],
            "application/vnd.jupyter.widget-view+json": {
              "version_major": 2,
              "version_minor": 0,
              "model_id": "97ec5a0e400f485ab0625f384fe8cd33"
            }
          },
          "metadata": {}
        },
        {
          "output_type": "stream",
          "name": "stdout",
          "text": [
            "CPU times: user 2.49 s, sys: 549 ms, total: 3.03 s\n",
            "Wall time: 4.65 s\n"
          ]
        }
      ]
    },
    {
      "cell_type": "code",
      "source": [
        "### 25. Execute the query to count records in the Google dataset for Lesotho\n",
        "\n",
        "%%time\n",
        "\n",
        "duckdb.sql(\"SELECT COUNT(*) FROM eri_buildings_google\").show()"
      ],
      "metadata": {
        "colab": {
          "base_uri": "https://localhost:8080/"
        },
        "id": "ETrbmXyvDXAi",
        "outputId": "14f5398f-451c-4805-df62-dfc940f310ea"
      },
      "execution_count": 39,
      "outputs": [
        {
          "output_type": "stream",
          "name": "stdout",
          "text": [
            "┌──────────────┐\n",
            "│ count_star() │\n",
            "│    int64     │\n",
            "├──────────────┤\n",
            "│      1511002 │\n",
            "└──────────────┘\n",
            "\n",
            "CPU times: user 5.31 ms, sys: 0 ns, total: 5.31 ms\n",
            "Wall time: 4.24 ms\n"
          ]
        }
      ]
    },
    {
      "cell_type": "code",
      "source": [
        "### 27. File with the Area of Interest (AOI)\n",
        "\n",
        "file = \"boundaries.geojson\""
      ],
      "metadata": {
        "id": "aFfFxSFNDbWS"
      },
      "execution_count": 40,
      "outputs": []
    },
    {
      "cell_type": "code",
      "source": [
        "### 28. Execute the query to create a table for the Area of Interest (AOI)\n",
        "\n",
        "%%time\n",
        "\n",
        "duckdb.sql(f\"\"\"\n",
        "    CREATE OR REPLACE TABLE aoi AS\n",
        "    SELECT *\n",
        "    FROM ST_Read('{file}')\n",
        "\"\"\")"
      ],
      "metadata": {
        "colab": {
          "base_uri": "https://localhost:8080/"
        },
        "id": "YVWFqpcODg9s",
        "outputId": "34ca71d2-a91a-4d18-ca0c-844bc9d31b68"
      },
      "execution_count": 48,
      "outputs": [
        {
          "output_type": "stream",
          "name": "stdout",
          "text": [
            "CPU times: user 3.96 ms, sys: 775 µs, total: 4.74 ms\n",
            "Wall time: 4.77 ms\n"
          ]
        }
      ]
    },
    {
      "cell_type": "code",
      "source": [
        "### 29. Execute the query to display the Area of Interest (AOI) table\n",
        "\n",
        "%%time\n",
        "\n",
        "duckdb.sql(\"SELECT * FROM aoi\").show()"
      ],
      "metadata": {
        "colab": {
          "base_uri": "https://localhost:8080/"
        },
        "id": "k66T0th5DjNa",
        "outputId": "ddcf649e-92cd-43d7-d771-481ed533353d"
      },
      "execution_count": 49,
      "outputs": [
        {
          "output_type": "stream",
          "name": "stdout",
          "text": [
            "┌─────────────────────────────────────────────────────────────────────────────────────────────────────────────────────────────────────────────────────────────────────────────────────────────────────────────────────────────────────────────────┐\n",
            "│                                                                                                                      geom                                                                                                                       │\n",
            "│                                                                                                                    geometry                                                                                                                     │\n",
            "├─────────────────────────────────────────────────────────────────────────────────────────────────────────────────────────────────────────────────────────────────────────────────────────────────────────────────────────────────────────────────┤\n",
            "│ POLYGON ((38.944048967951716 15.34197386763502, 38.92551223043739 15.344045033197645, 38.91736246768042 15.320076163679431, 38.94268361208523 15.319222854286977, 38.943381216360365 15.329047236299829, 38.944048967951716 15.34197386763502)) │\n",
            "└─────────────────────────────────────────────────────────────────────────────────────────────────────────────────────────────────────────────────────────────────────────────────────────────────────────────────────────────────────────────────┘\n",
            "\n",
            "CPU times: user 3.53 ms, sys: 0 ns, total: 3.53 ms\n",
            "Wall time: 3.54 ms\n"
          ]
        }
      ]
    },
    {
      "cell_type": "code",
      "source": [
        "### 30. Define the SQL query to clip Erithrea buildings with the Area of Interest (AOI)\n",
        "\n",
        "query3 = \"\"\"\n",
        "CREATE TABLE eri_buildings_clipped AS\n",
        "SELECT ST_Intersection(b.geometry, a.geom) AS geom, b.bf_source\n",
        "FROM eri_buildings b, aoi a\n",
        "WHERE ST_Intersects(b.geometry, a.geom);\n",
        "\"\"\""
      ],
      "metadata": {
        "id": "WCwZwAblGQxo"
      },
      "execution_count": 56,
      "outputs": []
    },
    {
      "cell_type": "code",
      "source": [
        "### 31. Execute the query to create the clipped table for Erithrea buildings\n",
        "\n",
        "%%time\n",
        "\n",
        "duckdb.sql(query3)"
      ],
      "metadata": {
        "colab": {
          "base_uri": "https://localhost:8080/"
        },
        "id": "4oYWBG8rGSuH",
        "outputId": "c88b2220-633f-4135-ccb9-d0c8723889ec"
      },
      "execution_count": 57,
      "outputs": [
        {
          "output_type": "stream",
          "name": "stdout",
          "text": [
            "CPU times: user 1.35 s, sys: 3.89 ms, total: 1.36 s\n",
            "Wall time: 731 ms\n"
          ]
        }
      ]
    },
    {
      "cell_type": "code",
      "source": [
        "#32. Execute the query to count records in the clipped table for Erithrea buildings\n",
        "\n",
        "%%time\n",
        "\n",
        "duckdb.sql(\"SELECT COUNT(*) FROM eri_buildings_clipped\").show()"
      ],
      "metadata": {
        "colab": {
          "base_uri": "https://localhost:8080/"
        },
        "id": "xybsXHQtHAp6",
        "outputId": "2b1f64a4-0047-4231-bac0-29805ec6a581"
      },
      "execution_count": 58,
      "outputs": [
        {
          "output_type": "stream",
          "name": "stdout",
          "text": [
            "┌──────────────┐\n",
            "│ count_star() │\n",
            "│    int64     │\n",
            "├──────────────┤\n",
            "│        22598 │\n",
            "└──────────────┘\n",
            "\n",
            "CPU times: user 4.39 ms, sys: 45 µs, total: 4.43 ms\n",
            "Wall time: 3.03 ms\n"
          ]
        }
      ]
    },
    {
      "cell_type": "code",
      "source": [
        "### 33. Define the SQL query to clip Google dataset buildings with the Area of Interest (AOI)\n",
        "\n",
        "query4 = \"\"\"\n",
        "CREATE TABLE eri_buildings_google_clipped AS\n",
        "SELECT ST_Intersection(b.geometry, a.geom) AS geom\n",
        "FROM eri_buildings_google b, aoi a\n",
        "WHERE ST_Intersects(b.geometry, a.geom);\n",
        "\"\"\""
      ],
      "metadata": {
        "id": "ZAfi0czwHMVj"
      },
      "execution_count": 59,
      "outputs": []
    },
    {
      "cell_type": "code",
      "source": [
        "### 34. Execute the query to create the clipped table for Google dataset buildings\n",
        "\n",
        "%%time\n",
        "\n",
        "duckdb.sql(query4)"
      ],
      "metadata": {
        "colab": {
          "base_uri": "https://localhost:8080/"
        },
        "id": "C0pUejJhHRmc",
        "outputId": "c30ad85e-b86f-43e9-b023-de192f5baa9d"
      },
      "execution_count": 60,
      "outputs": [
        {
          "output_type": "stream",
          "name": "stdout",
          "text": [
            "CPU times: user 1.03 s, sys: 8.66 ms, total: 1.04 s\n",
            "Wall time: 568 ms\n"
          ]
        }
      ]
    },
    {
      "cell_type": "code",
      "source": [
        "### 35. Execute the query to count records in the clipped table for Google dataset buildings\n",
        "\n",
        "%%time\n",
        "\n",
        "duckdb.sql(\"SELECT COUNT(*) FROM eri_buildings_google_clipped\").show()"
      ],
      "metadata": {
        "colab": {
          "base_uri": "https://localhost:8080/"
        },
        "id": "P76WW8y8HTSN",
        "outputId": "9c5a526d-4a6a-4a39-f471-3d0133dfc718"
      },
      "execution_count": 62,
      "outputs": [
        {
          "output_type": "stream",
          "name": "stdout",
          "text": [
            "┌──────────────┐\n",
            "│ count_star() │\n",
            "│    int64     │\n",
            "├──────────────┤\n",
            "│        22478 │\n",
            "└──────────────┘\n",
            "\n",
            "CPU times: user 3.91 ms, sys: 0 ns, total: 3.91 ms\n",
            "Wall time: 3.92 ms\n"
          ]
        }
      ]
    },
    {
      "cell_type": "code",
      "source": [
        "### 36. Define the SQL query to find buildings without intersection\n",
        "\n",
        "query5 = \"\"\"\n",
        "CREATE TABLE eri_no_intersection AS\n",
        "SELECT m.*\n",
        "FROM eri_buildings_clipped m\n",
        "WHERE NOT EXISTS (\n",
        "    SELECT 1\n",
        "    FROM eri_buildings_google_clipped g\n",
        "    WHERE ST_Intersects(m.geom, g.geom)\n",
        ");\n",
        "\"\"\""
      ],
      "metadata": {
        "id": "yFcDYklDHUwV"
      },
      "execution_count": 64,
      "outputs": []
    },
    {
      "cell_type": "code",
      "source": [
        "### 37. Execute the query to create the table of non-intersecting buildings\n",
        "\n",
        "%%time\n",
        "\n",
        "duckdb.sql(query5)"
      ],
      "metadata": {
        "colab": {
          "base_uri": "https://localhost:8080/"
        },
        "id": "HjSowI5hHalR",
        "outputId": "4f7433e9-e530-447e-f1b3-d792ec500986"
      },
      "execution_count": 65,
      "outputs": [
        {
          "output_type": "stream",
          "name": "stdout",
          "text": [
            "CPU times: user 910 ms, sys: 23.9 ms, total: 934 ms\n",
            "Wall time: 931 ms\n"
          ]
        }
      ]
    },
    {
      "cell_type": "code",
      "source": [
        "### 38. Execute the query to count records in the non-intersecting buildings table\n",
        "\n",
        "%%time\n",
        "\n",
        "duckdb.sql(\"SELECT count(*) FROM eri_no_intersection\").show()"
      ],
      "metadata": {
        "colab": {
          "base_uri": "https://localhost:8080/"
        },
        "id": "WDUbKIE1Hd2o",
        "outputId": "0a329366-cfc2-4e58-e8df-279d5423e061"
      },
      "execution_count": 66,
      "outputs": [
        {
          "output_type": "stream",
          "name": "stdout",
          "text": [
            "┌──────────────┐\n",
            "│ count_star() │\n",
            "│    int64     │\n",
            "├──────────────┤\n",
            "│          121 │\n",
            "└──────────────┘\n",
            "\n",
            "CPU times: user 3.18 ms, sys: 21 µs, total: 3.2 ms\n",
            "Wall time: 3.18 ms\n"
          ]
        }
      ]
    },
    {
      "cell_type": "code",
      "source": [
        "### 39. Export the clipped Lesotho buildings dataset to FlatGeobuf format\n",
        "\n",
        "%%time\n",
        "\n",
        "output_file = \"dataset1.fgb\"\n",
        "duckdb.sql(f\"\"\"\n",
        "    COPY (SELECT * FROM eri_buildings_clipped)\n",
        "    TO '{output_file}'\n",
        "    WITH (FORMAT GDAL, DRIVER 'FlatGeobuf');\n",
        "\"\"\")"
      ],
      "metadata": {
        "colab": {
          "base_uri": "https://localhost:8080/"
        },
        "id": "UWjeNHOvHgII",
        "outputId": "bf414d2b-1395-4edc-a587-02ba4138743b"
      },
      "execution_count": 67,
      "outputs": [
        {
          "output_type": "stream",
          "name": "stdout",
          "text": [
            "CPU times: user 348 ms, sys: 27.3 ms, total: 376 ms\n",
            "Wall time: 227 ms\n"
          ]
        }
      ]
    },
    {
      "cell_type": "code",
      "source": [
        "duckdb.sql(f\"\"\"\n",
        "SELECT *, ST_AsWKB(ST_Envelope(geometry)) AS geometry\n",
        "        FROM eri_buildings\n",
        "\"\"\").show()"
      ],
      "metadata": {
        "colab": {
          "base_uri": "https://localhost:8080/"
        },
        "id": "CWsVhoAPHll5",
        "outputId": "8df518ae-2d4c-4c21-e682-02008839aae9"
      },
      "execution_count": 87,
      "outputs": [
        {
          "output_type": "stream",
          "name": "stdout",
          "text": [
            "┌─────────────┬───────────┬────────────┬────────────────┬─────────────────────┬─────────────┬───────────────────────────────────────────────────────────────────────────────────────────────────────────────────────────────────────────────────────────────────────────────────────────────────────────────────────────────────────────────────────────────────────┬──────────┬───────────────────┬────────────────────────────────────────────────────────────────────────────────────────────────────────────────┬──────────────────────────────────────────────────────────────────────────────────────────────────────────────────────────────────────────────────────────────────────────────────────────────────────────┐\n",
            "│ boundary_id │ bf_source │ confidence │ area_in_meters │        s2_id        │ country_iso │                                                                                                                               geometry                                                                                                                                │ geohash  │ __index_level_0__ │                                                      bbox                                                      │                                                                                                 geometry                                                                                                 │\n",
            "│    int64    │  varchar  │   double   │     double     │        int64        │   varchar   │                                                                                                                               geometry                                                                                                                                │ varchar  │       int64       │                           struct(xmin double, ymin double, xmax double, ymax double)                           │                                                                                                 wkb_blob                                                                                                 │\n",
            "├─────────────┼───────────┼────────────┼────────────────┼─────────────────────┼─────────────┼───────────────────────────────────────────────────────────────────────────────────────────────────────────────────────────────────────────────────────────────────────────────────────────────────────────────────────────────────────────────────────────────────────┼──────────┼───────────────────┼────────────────────────────────────────────────────────────────────────────────────────────────────────────────┼──────────────────────────────────────────────────────────────────────────────────────────────────────────────────────────────────────────────────────────────────────────────────────────────────────────┤\n",
            "│          42 │ google    │     0.8402 │        29.7391 │ 1441151880758558720 │ ERI         │ POLYGON ((36.5534842495529 14.2636072568029, 36.5534747870094 14.2636542888742, 36.5534239766094 14.2636445647644, 36.5534334391622 14.2635975326967, 36.5534842495529 14.2636072568029))                                                                             │ sf9cpu97 │            342686 │ {'xmin': 36.5534239766094, 'ymin': 14.2635975326967, 'xmax': 36.5534842495529, 'ymax': 14.2636542888742}       │ POLYGON ((36.5534239766094 14.2635975326967, 36.5534842495529 14.2635975326967, 36.5534842495529 14.2636542888742, 36.5534239766094 14.2636542888742, 36.5534239766094 14.2635975326967))                │\n",
            "│          42 │ google    │     0.7266 │        18.2385 │ 1441151880758558720 │ ERI         │ POLYGON ((36.55381316134661 14.2634842603593, 36.55380748898819 14.2635180121412, 36.55376357483319 14.263510991844502, 36.55376924719761 14.2634772400648, 36.55381316134661 14.2634842603593))                                                                      │ sf9cpu9d │            192991 │ {'xmin': 36.55376357483319, 'ymin': 14.2634772400648, 'xmax': 36.55381316134661, 'ymax': 14.2635180121412}     │ POLYGON ((36.55376357483319 14.2634772400648, 36.55381316134661 14.2634772400648, 36.55381316134661 14.2635180121412, 36.55376357483319 14.2635180121412, 36.55376357483319 14.2634772400648))           │\n",
            "│          42 │ google    │      0.826 │        28.2021 │ 1441151880758558720 │ ERI         │ POLYGON ((36.5538730243848 14.2635311163364, 36.5538604226761 14.2635766483214, 36.5538122448195 14.263563964678402, 36.5538248465362 14.2635184326974, 36.5538730243848 14.2635311163364))                                                                           │ sf9cpu9e │            144872 │ {'xmin': 36.5538122448195, 'ymin': 14.2635184326974, 'xmax': 36.5538730243848, 'ymax': 14.2635766483214}       │ POLYGON ((36.5538122448195 14.2635184326974, 36.5538730243848 14.2635184326974, 36.5538730243848 14.2635766483214, 36.5538122448195 14.2635766483214, 36.5538122448195 14.2635184326974))                │\n",
            "│          42 │ google    │     0.7762 │        20.0226 │ 1441151880758558720 │ ERI         │ POLYGON ((36.5540570873881 14.263525098197599, 36.55405435323381 14.2635626463151, 36.5540100765927 14.263559579456897, 36.5540128107542 14.2635220313412, 36.5540570873881 14.263525098197599))                                                                      │ sf9cpu9g │            225308 │ {'xmin': 36.5540100765927, 'ymin': 14.2635220313412, 'xmax': 36.5540570873881, 'ymax': 14.2635626463151}       │ POLYGON ((36.5540100765927 14.2635220313412, 36.5540570873881 14.2635220313412, 36.5540570873881 14.2635626463151, 36.5540100765927 14.2635626463151, 36.5540100765927 14.2635220313412))                │\n",
            "│          42 │ google    │     0.8504 │        56.6806 │ 1441151880758558720 │ ERI         │ POLYGON ((36.5534269720879 14.263693118466298, 36.553401439694 14.2637677927689, 36.5533444367439 14.2637492531541, 36.5533699691525 14.2636745788603, 36.5534269720879 14.263693118466298))                                                                          │ sf9cpu9k │            387653 │ {'xmin': 36.5533444367439, 'ymin': 14.2636745788603, 'xmax': 36.5534269720879, 'ymax': 14.2637677927689}       │ POLYGON ((36.5533444367439 14.2636745788603, 36.5534269720879 14.2636745788603, 36.5534269720879 14.2637677927689, 36.5533444367439 14.2637677927689, 36.5533444367439 14.2636745788603))                │\n",
            "│          42 │ google    │     0.7816 │        24.4697 │ 1441151880758558720 │ ERI         │ POLYGON ((36.55338177932051 14.2639821493724, 36.5533742751074 14.2640199776795, 36.5533222419048 14.264010159050898, 36.5533297461257 14.2639723307469, 36.55338177932051 14.2639821493724))                                                                         │ sf9cpu9m │             75745 │ {'xmin': 36.5533222419048, 'ymin': 14.2639723307469, 'xmax': 36.55338177932051, 'ymax': 14.2640199776795}      │ POLYGON ((36.5533222419048 14.2639723307469, 36.55338177932051 14.2639723307469, 36.55338177932051 14.2640199776795, 36.5533222419048 14.2640199776795, 36.5533222419048 14.2639723307469))              │\n",
            "│          42 │ google    │     0.7758 │        15.6442 │ 1441151880758558720 │ ERI         │ POLYGON ((36.5535113425284 14.2640741011872, 36.5535029192561 14.264101936939403, 36.5534597763892 14.264089518459702, 36.55346819966571 14.2640616827097, 36.5535113425284 14.2640741011872))                                                                        │ sf9cpu9q │            451603 │ {'xmin': 36.5534597763892, 'ymin': 14.2640616827097, 'xmax': 36.5535113425284, 'ymax': 14.264101936939403}     │ POLYGON ((36.5534597763892 14.2640616827097, 36.5535113425284 14.2640616827097, 36.5535113425284 14.264101936939403, 36.5534597763892 14.264101936939403, 36.5534597763892 14.2640616827097))            │\n",
            "│          42 │ google    │     0.8209 │        56.6234 │ 1441151880758558720 │ ERI         │ POLYGON ((36.55376796040041 14.2639466817767, 36.5537527093388 14.264011442573599, 36.55367356700461 14.2639937137903, 36.5536808171748 14.2639629273401, 36.5536995626171 14.2639671265342, 36.553707563525 14.263933152194902, 36.55376796040041 14.2639466817767)) │ sf9cpu9t │            122197 │ {'xmin': 36.55367356700461, 'ymin': 14.263933152194902, 'xmax': 36.55376796040041, 'ymax': 14.264011442573599} │ POLYGON ((36.55367356700461 14.263933152194902, 36.55376796040041 14.263933152194902, 36.55376796040041 14.264011442573599, 36.55367356700461 14.264011442573599, 36.55367356700461 14.263933152194902)) │\n",
            "│          42 │ google    │      0.763 │        17.2382 │ 1441151880758558720 │ ERI         │ POLYGON ((36.5541909062338 14.2636977652251, 36.55418536996859 14.2637336924157, 36.554146214083 14.263727952918998, 36.55415175035369 14.263692025730299, 36.5541909062338 14.2636977652251))                                                                        │ sf9cpu9u │            425777 │ {'xmin': 36.554146214083, 'ymin': 14.263692025730299, 'xmax': 36.5541909062338, 'ymax': 14.2637336924157}      │ POLYGON ((36.554146214083 14.263692025730299, 36.5541909062338 14.263692025730299, 36.5541909062338 14.2637336924157, 36.554146214083 14.2637336924157, 36.554146214083 14.263692025730299))             │\n",
            "│          42 │ google    │     0.7775 │        27.5454 │ 1441151880758558720 │ ERI         │ POLYGON ((36.5540092069054 14.2637577049074, 36.55400522784161 14.263799438023, 36.553950619686304 14.2637944853368, 36.5539545987598 14.2637527522237, 36.5540092069054 14.2637577049074))                                                                           │ sf9cpu9u │            456931 │ {'xmin': 36.553950619686304, 'ymin': 14.2637527522237, 'xmax': 36.5540092069054, 'ymax': 14.263799438023}      │ POLYGON ((36.553950619686304 14.2637527522237, 36.5540092069054 14.2637527522237, 36.5540092069054 14.263799438023, 36.553950619686304 14.263799438023, 36.553950619686304 14.2637527522237))            │\n",
            "│           · │   ·       │        ·   │           ·    │          ·          │  ·          │                                                                                              ·                                                                                                                                                                        │    ·     │               ·   │                                                     ·                                                          │                                                                                              ·                                                                                                           │\n",
            "│           · │   ·       │        ·   │           ·    │          ·          │  ·          │                                                                                              ·                                                                                                                                                                        │    ·     │               ·   │                                                     ·                                                          │                                                                                              ·                                                                                                           │\n",
            "│           · │   ·       │        ·   │           ·    │          ·          │  ·          │                                                                                              ·                                                                                                                                                                        │    ·     │               ·   │                                                     ·                                                          │                                                                                              ·                                                                                                           │\n",
            "│          42 │ google    │      0.815 │        17.0702 │ 1441151880758558720 │ ERI         │ POLYGON ((36.51145854790139 15.169652799507602, 36.5114225304097 15.1696623667842, 36.5114121247147 15.1696254157416, 36.5114481422 15.1696158484658, 36.51145854790139 15.169652799507602))                                                                          │ sf9yqcdc │             70081 │ {'xmin': 36.5114121247147, 'ymin': 15.1696158484658, 'xmax': 36.51145854790139, 'ymax': 15.1696623667842}      │ POLYGON ((36.5114121247147 15.1696158484658, 36.51145854790139 15.1696158484658, 36.51145854790139 15.1696623667842, 36.5114121247147 15.1696623667842, 36.5114121247147 15.1696158484658))              │\n",
            "│          42 │ google    │     0.7742 │        21.6199 │ 1441151880758558720 │ ERI         │ POLYGON ((36.51169852364119 15.1696128721568, 36.511688750772606 15.1696557557587, 36.51164847693071 15.169647098419, 36.5116582498063 15.169604214820003, 36.51169852364119 15.1696128721568))                                                                       │ sf9yqcdc │            385800 │ {'xmin': 36.51164847693071, 'ymin': 15.169604214820003, 'xmax': 36.51169852364119, 'ymax': 15.1696557557587}   │ POLYGON ((36.51164847693071 15.169604214820003, 36.51169852364119 15.169604214820003, 36.51169852364119 15.1696557557587, 36.51164847693071 15.1696557557587, 36.51164847693071 15.169604214820003))     │\n",
            "│          42 │ google    │      0.845 │        25.1166 │ 1441151880758558720 │ ERI         │ POLYGON ((36.5113485708242 15.169883773094904, 36.511303298937 15.1698905492434, 36.5112960929292 15.1698451373009, 36.5113413648064 15.169838361152397, 36.5113485708242 15.169883773094904))                                                                        │ sf9yqcdd │             51883 │ {'xmin': 36.5112960929292, 'ymin': 15.169838361152397, 'xmax': 36.5113485708242, 'ymax': 15.1698905492434}     │ POLYGON ((36.5112960929292 15.169838361152397, 36.5113485708242 15.169838361152397, 36.5113485708242 15.1698905492434, 36.5112960929292 15.1698905492434, 36.5112960929292 15.169838361152397))          │\n",
            "│          42 │ google    │     0.7847 │        17.8085 │ 1441151880758558720 │ ERI         │ POLYGON ((36.5110198669614 15.1697579207659, 36.511021491013295 15.169797173112897, 36.5109835339964 15.169798654453702, 36.5109819099517 15.169759402107601, 36.5110198669614 15.1697579207659))                                                                     │ sf9yqcdd │            258705 │ {'xmin': 36.5109819099517, 'ymin': 15.1697579207659, 'xmax': 36.511021491013295, 'ymax': 15.169798654453702}   │ POLYGON ((36.5109819099517 15.1697579207659, 36.511021491013295 15.1697579207659, 36.511021491013295 15.169798654453702, 36.5109819099517 15.169798654453702, 36.5109819099517 15.1697579207659))        │\n",
            "│          42 │ google    │     0.6608 │         9.0904 │ 1441151880758558720 │ ERI         │ POLYGON ((36.5110560766876 15.169757481658902, 36.51105384972409 15.1697905166756, 36.5110308890692 15.1697890566748, 36.5110331160363 15.169756021658998, 36.5110560766876 15.169757481658902))                                                                      │ sf9yqcdd │            122367 │ {'xmin': 36.5110308890692, 'ymin': 15.169756021658998, 'xmax': 36.5110560766876, 'ymax': 15.1697905166756}     │ POLYGON ((36.5110308890692 15.169756021658998, 36.5110560766876 15.169756021658998, 36.5110560766876 15.1697905166756, 36.5110308890692 15.1697905166756, 36.5110308890692 15.169756021658998))          │\n",
            "│          42 │ google    │      0.682 │         8.9133 │ 1441151880758558720 │ ERI         │ POLYGON ((36.5113552820426 15.169977674470505, 36.51136091497779 15.170000629052902, 36.511330125195 15.1700077559537, 36.5113244922633 15.169984801371003, 36.5113552820426 15.169977674470505))                                                                     │ sf9yqcde │            238311 │ {'xmin': 36.5113244922633, 'ymin': 15.169977674470505, 'xmax': 36.51136091497779, 'ymax': 15.1700077559537}    │ POLYGON ((36.5113244922633 15.169977674470505, 36.51136091497779 15.169977674470505, 36.51136091497779 15.1700077559537, 36.5113244922633 15.1700077559537, 36.5113244922633 15.169977674470505))        │\n",
            "│          42 │ google    │     0.7055 │        11.3041 │ 1441151880758558720 │ ERI         │ POLYGON ((36.5110544998543 15.169979745061802, 36.5110580525611 15.170009552826498, 36.5110266939303 15.170013078285, 36.511023141228 15.169983270520502, 36.5110544998543 15.169979745061802))                                                                       │ sf9yqcde │            503236 │ {'xmin': 36.511023141228, 'ymin': 15.169979745061802, 'xmax': 36.5110580525611, 'ymax': 15.170013078285}       │ POLYGON ((36.511023141228 15.169979745061802, 36.5110580525611 15.169979745061802, 36.5110580525611 15.170013078285, 36.511023141228 15.170013078285, 36.511023141228 15.169979745061802))               │\n",
            "│          42 │ google    │     0.7881 │        15.9035 │ 1441151880758558720 │ ERI         │ POLYGON ((36.51131615941011 15.169904598156402, 36.5113228236225 15.169936024847802, 36.5112821433007 15.1699441618322, 36.5112754790945 15.169912735140501, 36.51131615941011 15.169904598156402))                                                                   │ sf9yqcde │            273080 │ {'xmin': 36.5112754790945, 'ymin': 15.169904598156402, 'xmax': 36.5113228236225, 'ymax': 15.1699441618322}     │ POLYGON ((36.5112754790945 15.169904598156402, 36.5113228236225 15.169904598156402, 36.5113228236225 15.1699441618322, 36.5112754790945 15.1699441618322, 36.5112754790945 15.169904598156402))          │\n",
            "│          42 │ google    │     0.7078 │         8.6451 │ 1441151880758558720 │ ERI         │ POLYGON ((36.5111600782941 15.169932658492202, 36.5111579354861 15.169959914137602, 36.511131510206496 15.1699579544996, 36.5111336530178 15.1699306988549, 36.5111600782941 15.169932658492202))                                                                     │ sf9yqcde │            172146 │ {'xmin': 36.511131510206496, 'ymin': 15.1699306988549, 'xmax': 36.5111600782941, 'ymax': 15.169959914137602}   │ POLYGON ((36.511131510206496 15.1699306988549, 36.5111600782941 15.1699306988549, 36.5111600782941 15.169959914137602, 36.511131510206496 15.169959914137602, 36.511131510206496 15.1699306988549))      │\n",
            "│          42 │ google    │     0.7161 │        41.5185 │ 1441151880758558720 │ ERI         │ POLYGON ((36.51138589036061 15.169795947084602, 36.5114035535378 15.1698760929033, 36.5113620449361 15.1698847218009, 36.5113443817745 15.169804575981601, 36.51138589036061 15.169795947084602))                                                                     │ sf9yqcdf │            317561 │ {'xmin': 36.5113443817745, 'ymin': 15.169795947084602, 'xmax': 36.5114035535378, 'ymax': 15.1698847218009}     │ POLYGON ((36.5113443817745 15.169795947084602, 36.5114035535378 15.169795947084602, 36.5114035535378 15.1698847218009, 36.5113443817745 15.1698847218009, 36.5113443817745 15.169795947084602))          │\n",
            "├─────────────┴───────────┴────────────┴────────────────┴─────────────────────┴─────────────┴───────────────────────────────────────────────────────────────────────────────────────────────────────────────────────────────────────────────────────────────────────────────────────────────────────────────────────────────────────────────────────────────────────┴──────────┴───────────────────┴────────────────────────────────────────────────────────────────────────────────────────────────────────────────┴──────────────────────────────────────────────────────────────────────────────────────────────────────────────────────────────────────────────────────────────────────────────────────────────────────────┤\n",
            "│ ? rows (>9999 rows, 20 shown)                                                                                                                                                                                                                                                                                                                                                                                                                                                                                                                                                                                                                                                                                     11 columns │\n",
            "└──────────────────────────────────────────────────────────────────────────────────────────────────────────────────────────────────────────────────────────────────────────────────────────────────────────────────────────────────────────────────────────────────────────────────────────────────────────────────────────────────────────────────────────────────────────────────────────────────────────────────────────────────────────────────────────────────────────────────────────────────────────────────────────────────────────────────────────────────────────────────────────────────────────────────────────────────────────────────────────────────────────────────────────────────────────────────────────────┘\n",
            "\n"
          ]
        }
      ]
    },
    {
      "cell_type": "code",
      "source": [
        "# Source:\n",
        "# https://towardsdatascience.com/handling-billions-of-records-in-minutes-with-sql-%EF%B8%8F-484d2d6027bc#bypass"
      ],
      "metadata": {
        "id": "p3frVoMFHu41"
      },
      "execution_count": null,
      "outputs": []
    }
  ]
}